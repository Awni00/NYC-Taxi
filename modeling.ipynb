{
 "cells": [
  {
   "cell_type": "markdown",
   "metadata": {},
   "source": [
    "# Modeling - Predicting Taxi Trip Durations in NYC"
   ]
  },
  {
   "cell_type": "markdown",
   "metadata": {},
   "source": [
    "Description...\n",
    "\n",
    "Outline...\n",
    "\n",
    "- ...\n",
    "\n",
    "TODO: maybe there's a way to get features via a maps API"
   ]
  },
  {
   "cell_type": "markdown",
   "metadata": {},
   "source": [
    "## Set up"
   ]
  },
  {
   "cell_type": "code",
   "execution_count": 1,
   "metadata": {},
   "outputs": [],
   "source": [
    "import numpy as np\n",
    "import pandas as pd\n",
    "\n",
    "import matplotlib.pyplot as plt\n",
    "import seaborn as sns\n",
    "\n",
    "sns.set_theme()\n",
    "sns.set_style('whitegrid')"
   ]
  },
  {
   "cell_type": "code",
   "execution_count": 2,
   "metadata": {},
   "outputs": [],
   "source": [
    "from load_preprocess_data import load_train_data, load_test_data\n",
    "\n",
    "# load data\n",
    "train_data = load_train_data('data/W22P1_train.csv')\n",
    "test_data = load_test_data('data/W22P1_test.csv')"
   ]
  },
  {
   "cell_type": "code",
   "execution_count": 3,
   "metadata": {},
   "outputs": [
    {
     "data": {
      "text/html": [
       "<div>\n",
       "<style scoped>\n",
       "    .dataframe tbody tr th:only-of-type {\n",
       "        vertical-align: middle;\n",
       "    }\n",
       "\n",
       "    .dataframe tbody tr th {\n",
       "        vertical-align: top;\n",
       "    }\n",
       "\n",
       "    .dataframe thead th {\n",
       "        text-align: right;\n",
       "    }\n",
       "</style>\n",
       "<table border=\"1\" class=\"dataframe\">\n",
       "  <thead>\n",
       "    <tr style=\"text-align: right;\">\n",
       "      <th></th>\n",
       "      <th>pickup_datetime</th>\n",
       "      <th>dayofweek</th>\n",
       "      <th>hour</th>\n",
       "      <th>passenger_count</th>\n",
       "      <th>distance_km</th>\n",
       "      <th>l1_distance_km</th>\n",
       "      <th>pickup_longitude</th>\n",
       "      <th>pickup_latitude</th>\n",
       "      <th>dropoff_longitude</th>\n",
       "      <th>dropoff_latitude</th>\n",
       "      <th>trip_duration</th>\n",
       "      <th>log_trip_duration</th>\n",
       "    </tr>\n",
       "    <tr>\n",
       "      <th>id</th>\n",
       "      <th></th>\n",
       "      <th></th>\n",
       "      <th></th>\n",
       "      <th></th>\n",
       "      <th></th>\n",
       "      <th></th>\n",
       "      <th></th>\n",
       "      <th></th>\n",
       "      <th></th>\n",
       "      <th></th>\n",
       "      <th></th>\n",
       "      <th></th>\n",
       "    </tr>\n",
       "  </thead>\n",
       "  <tbody>\n",
       "    <tr>\n",
       "      <th>0</th>\n",
       "      <td>2016-01-07 19:32:15</td>\n",
       "      <td>3</td>\n",
       "      <td>19</td>\n",
       "      <td>1</td>\n",
       "      <td>1.259700</td>\n",
       "      <td>1.997172</td>\n",
       "      <td>-73.986389</td>\n",
       "      <td>40.756615</td>\n",
       "      <td>-73.999794</td>\n",
       "      <td>40.761631</td>\n",
       "      <td>520</td>\n",
       "      <td>6.253829</td>\n",
       "    </tr>\n",
       "    <tr>\n",
       "      <th>1</th>\n",
       "      <td>2016-01-27 08:07:32</td>\n",
       "      <td>2</td>\n",
       "      <td>8</td>\n",
       "      <td>1</td>\n",
       "      <td>2.356650</td>\n",
       "      <td>2.513306</td>\n",
       "      <td>-73.956039</td>\n",
       "      <td>40.767609</td>\n",
       "      <td>-73.968201</td>\n",
       "      <td>40.786690</td>\n",
       "      <td>989</td>\n",
       "      <td>6.896694</td>\n",
       "    </tr>\n",
       "    <tr>\n",
       "      <th>2</th>\n",
       "      <td>2016-01-31 13:52:55</td>\n",
       "      <td>6</td>\n",
       "      <td>13</td>\n",
       "      <td>1</td>\n",
       "      <td>2.806862</td>\n",
       "      <td>2.918886</td>\n",
       "      <td>-73.975998</td>\n",
       "      <td>40.751137</td>\n",
       "      <td>-74.001854</td>\n",
       "      <td>40.735229</td>\n",
       "      <td>657</td>\n",
       "      <td>6.487684</td>\n",
       "    </tr>\n",
       "    <tr>\n",
       "      <th>3</th>\n",
       "      <td>2016-01-19 08:00:19</td>\n",
       "      <td>1</td>\n",
       "      <td>8</td>\n",
       "      <td>3</td>\n",
       "      <td>3.155510</td>\n",
       "      <td>4.015846</td>\n",
       "      <td>-73.960121</td>\n",
       "      <td>40.781952</td>\n",
       "      <td>-73.971970</td>\n",
       "      <td>40.755039</td>\n",
       "      <td>1035</td>\n",
       "      <td>6.942157</td>\n",
       "    </tr>\n",
       "    <tr>\n",
       "      <th>4</th>\n",
       "      <td>2016-01-25 23:32:14</td>\n",
       "      <td>0</td>\n",
       "      <td>23</td>\n",
       "      <td>1</td>\n",
       "      <td>1.725446</td>\n",
       "      <td>2.188162</td>\n",
       "      <td>-73.987434</td>\n",
       "      <td>40.760139</td>\n",
       "      <td>-73.990982</td>\n",
       "      <td>40.744862</td>\n",
       "      <td>621</td>\n",
       "      <td>6.431331</td>\n",
       "    </tr>\n",
       "  </tbody>\n",
       "</table>\n",
       "</div>"
      ],
      "text/plain": [
       "       pickup_datetime  dayofweek  hour  passenger_count  distance_km  \\\n",
       "id                                                                      \n",
       "0  2016-01-07 19:32:15          3    19                1     1.259700   \n",
       "1  2016-01-27 08:07:32          2     8                1     2.356650   \n",
       "2  2016-01-31 13:52:55          6    13                1     2.806862   \n",
       "3  2016-01-19 08:00:19          1     8                3     3.155510   \n",
       "4  2016-01-25 23:32:14          0    23                1     1.725446   \n",
       "\n",
       "    l1_distance_km  pickup_longitude  pickup_latitude  dropoff_longitude  \\\n",
       "id                                                                         \n",
       "0         1.997172        -73.986389        40.756615         -73.999794   \n",
       "1         2.513306        -73.956039        40.767609         -73.968201   \n",
       "2         2.918886        -73.975998        40.751137         -74.001854   \n",
       "3         4.015846        -73.960121        40.781952         -73.971970   \n",
       "4         2.188162        -73.987434        40.760139         -73.990982   \n",
       "\n",
       "    dropoff_latitude  trip_duration  log_trip_duration  \n",
       "id                                                      \n",
       "0          40.761631            520           6.253829  \n",
       "1          40.786690            989           6.896694  \n",
       "2          40.735229            657           6.487684  \n",
       "3          40.755039           1035           6.942157  \n",
       "4          40.744862            621           6.431331  "
      ]
     },
     "execution_count": 3,
     "metadata": {},
     "output_type": "execute_result"
    }
   ],
   "source": [
    "train_data.head()"
   ]
  },
  {
   "cell_type": "code",
   "execution_count": 4,
   "metadata": {},
   "outputs": [
    {
     "name": "stdout",
     "output_type": "stream",
     "text": [
      "covariates:  ['pickup_datetime', 'dayofweek', 'hour', 'passenger_count', 'distance_km', 'l1_distance_km', 'pickup_longitude', 'pickup_latitude', 'dropoff_longitude', 'dropoff_latitude']\n"
     ]
    }
   ],
   "source": [
    "all_covariates = list(test_data.columns)\n",
    "\n",
    "original_covariates = ['hour', 'passenger_count',\n",
    "                       'pickup_longitude', 'pickup_latitude',\n",
    "                       'dropoff_longitude', 'dropoff_latitude']\n",
    "\n",
    "# numerical covariates\n",
    "numerical_covariates = ['hour', 'passenger_count',\n",
    "                        'distance_km', 'l1_distance_km',\n",
    "                        'pickup_longitude', 'pickup_latitude',\n",
    "                        'dropoff_longitude', 'dropoff_latitude']\n",
    "\n",
    "# categorical + numerical covariates\n",
    "cat_numerical_covariates = ['dayofweek', 'hour',\n",
    "                            'passenger_count', 'distance_km', 'l1_distance_km',\n",
    "                            'pickup_longitude', 'pickup_latitude',\n",
    "                            'dropoff_longitude', 'dropoff_latitude']\n",
    "\n",
    "print('covariates: ', all_covariates)"
   ]
  },
  {
   "cell_type": "code",
   "execution_count": 5,
   "metadata": {},
   "outputs": [],
   "source": [
    "# train-test split the training data (so that we can evaluate without submitting)\n",
    "from sklearn.model_selection import train_test_split\n",
    "train_train_data, train_test_data = train_test_split(train_data, test_size=0.1)"
   ]
  },
  {
   "cell_type": "code",
   "execution_count": 6,
   "metadata": {},
   "outputs": [],
   "source": [
    "def create_X_y(train_data, test_data, covariates, label):\n",
    "    X_train = train_data[covariates]\n",
    "    X_test = test_data[covariates]\n",
    "\n",
    "    y_train = train_data[label]\n",
    "    y_test = test_data[label]\n",
    "\n",
    "    return X_train, X_test, y_train, y_test"
   ]
  },
  {
   "cell_type": "code",
   "execution_count": 7,
   "metadata": {},
   "outputs": [],
   "source": [
    "from sklearn.metrics import mean_squared_log_error, mean_absolute_error, mean_squared_error\n",
    "\n",
    "def eval_model(model, X, y, metric='rmsle', log=False):\n",
    "    '''evaluate model on given model via the given metric'''\n",
    "\n",
    "    y_pred = model.predict(X)\n",
    "    if log:\n",
    "        y_pred = np.exp(y_pred)\n",
    "        y = np.exp(y)\n",
    "\n",
    "    if metric=='rmsle':\n",
    "        return np.sqrt(mean_squared_log_error(y, y_pred))\n",
    "    elif 'msle':\n",
    "        return mean_squared_log_error(y, y_pred)\n",
    "    elif metric=='mse':\n",
    "        return mean_squared_error(y, y_pred)\n",
    "    elif metric=='rmse':\n",
    "        return np.sqrt(mean_squared_error(y, y_pred))\n",
    "    elif metric=='mae':\n",
    "        return mean_absolute_error(y, y_pred)\n",
    "    else:\n",
    "        raise ValueError()"
   ]
  },
  {
   "cell_type": "code",
   "execution_count": 8,
   "metadata": {},
   "outputs": [],
   "source": [
    "def create_submission(model, covariates, log=False):\n",
    "    X_test = test_data[covariates]\n",
    "    y_pred = model.predict(X_test)\n",
    "\n",
    "    if log:\n",
    "        y_pred = np.exp(y_pred)\n",
    "\n",
    "    df = pd.DataFrame(index=test_data.index, data=y_pred, columns=['trip_duration'])\n",
    "\n",
    "    return df"
   ]
  },
  {
   "cell_type": "markdown",
   "metadata": {},
   "source": [
    "## Baseline Models"
   ]
  },
  {
   "cell_type": "markdown",
   "metadata": {},
   "source": [
    "### Linear Regression on Original Features"
   ]
  },
  {
   "cell_type": "code",
   "execution_count": 9,
   "metadata": {},
   "outputs": [
    {
     "name": "stdout",
     "output_type": "stream",
     "text": [
      "train rmsle:  0.7451294021653776\n",
      "test rmsle:  0.7191473461365062\n"
     ]
    }
   ],
   "source": [
    "from sklearn.linear_model import LinearRegression\n",
    "\n",
    "X_train, X_test, y_train, y_test = create_X_y(train_train_data, train_test_data, original_covariates, 'log_trip_duration')\n",
    "\n",
    "reg = LinearRegression().fit(X_train, y_train)\n",
    "\n",
    "print('train rmsle: ', eval_model(reg, X_train, y_train, metric='rmsle', log=True))\n",
    "print('test rmsle: ', eval_model(reg, X_test, y_test, metric='rmsle', log=True))"
   ]
  },
  {
   "cell_type": "markdown",
   "metadata": {},
   "source": [
    "## Linear Regression - Haversine Distance Only"
   ]
  },
  {
   "cell_type": "code",
   "execution_count": 10,
   "metadata": {},
   "outputs": [
    {
     "name": "stdout",
     "output_type": "stream",
     "text": [
      "train rmsle:  0.6256579674755794\n",
      "test rmsle:  0.602153602733774\n"
     ]
    }
   ],
   "source": [
    "from sklearn.linear_model import LinearRegression\n",
    "\n",
    "X_train, X_test, y_train, y_test = create_X_y(train_train_data, train_test_data, ['distance_km'], 'log_trip_duration')\n",
    "\n",
    "reg = LinearRegression().fit(X_train, y_train)\n",
    "\n",
    "print('train rmsle: ', eval_model(reg, X_train, y_train, metric='rmsle', log=True))\n",
    "print('test rmsle: ', eval_model(reg, X_test, y_test, metric='rmsle', log=True))"
   ]
  },
  {
   "cell_type": "markdown",
   "metadata": {},
   "source": [
    "## Linear Regression - All Features"
   ]
  },
  {
   "cell_type": "code",
   "execution_count": 11,
   "metadata": {},
   "outputs": [
    {
     "name": "stdout",
     "output_type": "stream",
     "text": [
      "train rmsle:  0.6128507543721159\n",
      "test rmsle:  0.5853723012574025\n"
     ]
    }
   ],
   "source": [
    "from sklearn.linear_model import LinearRegression\n",
    "\n",
    "X_train, X_test, y_train, y_test = create_X_y(train_train_data, train_test_data, numerical_covariates, 'log_trip_duration')\n",
    "\n",
    "reg = LinearRegression().fit(X_train, y_train)\n",
    "\n",
    "print('train rmsle: ', eval_model(reg, X_train, y_train, metric='rmsle', log=True))\n",
    "print('test rmsle: ', eval_model(reg, X_test, y_test, metric='rmsle', log=True))"
   ]
  },
  {
   "cell_type": "markdown",
   "metadata": {},
   "source": [
    "## Linear Regression - ElasticNet"
   ]
  },
  {
   "cell_type": "code",
   "execution_count": 12,
   "metadata": {},
   "outputs": [
    {
     "name": "stdout",
     "output_type": "stream",
     "text": [
      "train rmsle:  0.619604372211765\n",
      "test rmsle:  0.5902675055847393\n"
     ]
    }
   ],
   "source": [
    "from sklearn.linear_model import ElasticNetCV\n",
    "\n",
    "X_train, X_test, y_train, y_test = create_X_y(train_train_data, train_test_data, numerical_covariates, 'log_trip_duration')\n",
    "\n",
    "reg = ElasticNetCV(l1_ratio=[0.1, 0.5, 0.7, 1], n_alphas=100, cv=10).fit(X_train, y_train)\n",
    "\n",
    "print('train rmsle: ', eval_model(reg, X_train, y_train, metric='rmsle', log=True))\n",
    "print('test rmsle: ', eval_model(reg, X_test, y_test, metric='rmsle', log=True))"
   ]
  },
  {
   "cell_type": "code",
   "execution_count": 13,
   "metadata": {},
   "outputs": [
    {
     "data": {
      "text/plain": [
       "array(['hour', 'passenger_count', 'distance_km', 'l1_distance_km'],\n",
       "      dtype='<U17')"
      ]
     },
     "execution_count": 13,
     "metadata": {},
     "output_type": "execute_result"
    }
   ],
   "source": [
    "np.array(numerical_covariates)[reg.coef_ != 0] # selected features"
   ]
  },
  {
   "cell_type": "markdown",
   "metadata": {},
   "source": [
    "## Linear Regression - Recursive Feature Elimination"
   ]
  },
  {
   "cell_type": "code",
   "execution_count": 14,
   "metadata": {},
   "outputs": [
    {
     "name": "stdout",
     "output_type": "stream",
     "text": [
      "train rmsle:  0.6128507543721159\n",
      "test rmsle:  0.5853723012574025\n"
     ]
    }
   ],
   "source": [
    "from sklearn.feature_selection import RFECV\n",
    "from sklearn.linear_model import LinearRegression\n",
    "\n",
    "X_train, X_test, y_train, y_test = create_X_y(train_train_data, train_test_data, numerical_covariates, 'log_trip_duration')\n",
    "\n",
    "reg = RFECV(LinearRegression(), min_features_to_select=1, cv=10).fit(X_train, y_train)\n",
    "\n",
    "print('train rmsle: ', eval_model(reg, X_train, y_train, metric='rmsle', log=True))\n",
    "print('test rmsle: ', eval_model(reg, X_test, y_test, metric='rmsle', log=True))"
   ]
  },
  {
   "cell_type": "code",
   "execution_count": 15,
   "metadata": {},
   "outputs": [
    {
     "data": {
      "text/plain": [
       "array([ True,  True,  True,  True,  True,  True,  True,  True])"
      ]
     },
     "execution_count": 15,
     "metadata": {},
     "output_type": "execute_result"
    }
   ],
   "source": [
    "reg.support_ # selected features"
   ]
  },
  {
   "cell_type": "markdown",
   "metadata": {},
   "source": [
    "## Random Forest - All Features"
   ]
  },
  {
   "cell_type": "markdown",
   "metadata": {},
   "source": [
    "Training random forests on sklearn is slow, let's just try one"
   ]
  },
  {
   "cell_type": "code",
   "execution_count": 16,
   "metadata": {},
   "outputs": [
    {
     "name": "stdout",
     "output_type": "stream",
     "text": [
      "train rmsle:  0.17794091712065188\n",
      "test rmsle:  0.446359104968922\n"
     ]
    }
   ],
   "source": [
    "from sklearn.ensemble import RandomForestRegressor\n",
    "\n",
    "X_train, X_test, y_train, y_test = create_X_y(train_train_data, train_test_data, cat_numerical_covariates, 'log_trip_duration')\n",
    "\n",
    "reg = RandomForestRegressor(n_estimators=100).fit(X_train, y_train)\n",
    "\n",
    "print('train rmsle: ', eval_model(reg, X_train, y_train, metric='rmsle', log=True))\n",
    "print('test rmsle: ', eval_model(reg, X_test, y_test, metric='rmsle', log=True))"
   ]
  },
  {
   "cell_type": "markdown",
   "metadata": {},
   "source": [
    "Feature Importances"
   ]
  },
  {
   "cell_type": "code",
   "execution_count": 17,
   "metadata": {},
   "outputs": [
    {
     "data": {
      "text/html": [
       "<div>\n",
       "<style scoped>\n",
       "    .dataframe tbody tr th:only-of-type {\n",
       "        vertical-align: middle;\n",
       "    }\n",
       "\n",
       "    .dataframe tbody tr th {\n",
       "        vertical-align: top;\n",
       "    }\n",
       "\n",
       "    .dataframe thead th {\n",
       "        text-align: right;\n",
       "    }\n",
       "</style>\n",
       "<table border=\"1\" class=\"dataframe\">\n",
       "  <thead>\n",
       "    <tr style=\"text-align: right;\">\n",
       "      <th></th>\n",
       "      <th>feature_importance</th>\n",
       "    </tr>\n",
       "  </thead>\n",
       "  <tbody>\n",
       "    <tr>\n",
       "      <th>distance_km</th>\n",
       "      <td>0.604150</td>\n",
       "    </tr>\n",
       "    <tr>\n",
       "      <th>l1_distance_km</th>\n",
       "      <td>0.080790</td>\n",
       "    </tr>\n",
       "    <tr>\n",
       "      <th>dropoff_latitude</th>\n",
       "      <td>0.065780</td>\n",
       "    </tr>\n",
       "    <tr>\n",
       "      <th>hour</th>\n",
       "      <td>0.056010</td>\n",
       "    </tr>\n",
       "    <tr>\n",
       "      <th>dropoff_longitude</th>\n",
       "      <td>0.051882</td>\n",
       "    </tr>\n",
       "    <tr>\n",
       "      <th>pickup_latitude</th>\n",
       "      <td>0.050449</td>\n",
       "    </tr>\n",
       "    <tr>\n",
       "      <th>pickup_longitude</th>\n",
       "      <td>0.049143</td>\n",
       "    </tr>\n",
       "    <tr>\n",
       "      <th>dayofweek</th>\n",
       "      <td>0.029342</td>\n",
       "    </tr>\n",
       "    <tr>\n",
       "      <th>passenger_count</th>\n",
       "      <td>0.012452</td>\n",
       "    </tr>\n",
       "  </tbody>\n",
       "</table>\n",
       "</div>"
      ],
      "text/plain": [
       "                   feature_importance\n",
       "distance_km                  0.604150\n",
       "l1_distance_km               0.080790\n",
       "dropoff_latitude             0.065780\n",
       "hour                         0.056010\n",
       "dropoff_longitude            0.051882\n",
       "pickup_latitude              0.050449\n",
       "pickup_longitude             0.049143\n",
       "dayofweek                    0.029342\n",
       "passenger_count              0.012452"
      ]
     },
     "execution_count": 17,
     "metadata": {},
     "output_type": "execute_result"
    }
   ],
   "source": [
    "pd.DataFrame(index=reg.feature_names_in_, data=reg.feature_importances_,\n",
    "                columns=['feature_importance']).sort_values(by='feature_importance', ascending=False)"
   ]
  },
  {
   "cell_type": "markdown",
   "metadata": {},
   "source": [
    "This validates that the 'distance_km' feature is highly predictive."
   ]
  },
  {
   "cell_type": "markdown",
   "metadata": {},
   "source": [
    "## Gradient Boosted Machines (use XGBoost)"
   ]
  },
  {
   "cell_type": "code",
   "execution_count": 18,
   "metadata": {},
   "outputs": [
    {
     "name": "stderr",
     "output_type": "stream",
     "text": [
      "C:\\Users\\awnya\\miniconda3\\envs\\stat457\\lib\\site-packages\\xgboost\\compat.py:36: FutureWarning: pandas.Int64Index is deprecated and will be removed from pandas in a future version. Use pandas.Index with the appropriate dtype instead.\n",
      "  from pandas import MultiIndex, Int64Index\n",
      "C:\\Users\\awnya\\miniconda3\\envs\\stat457\\lib\\site-packages\\xgboost\\data.py:262: FutureWarning: pandas.Int64Index is deprecated and will be removed from pandas in a future version. Use pandas.Index with the appropriate dtype instead.\n",
      "  elif isinstance(data.columns, (pd.Int64Index, pd.RangeIndex)):\n"
     ]
    },
    {
     "name": "stdout",
     "output_type": "stream",
     "text": [
      "train rmsle:  0.32099335873310375\n",
      "test rmsle:  0.4482136967534261\n"
     ]
    },
    {
     "name": "stderr",
     "output_type": "stream",
     "text": [
      "C:\\Users\\awnya\\miniconda3\\envs\\stat457\\lib\\site-packages\\xgboost\\data.py:262: FutureWarning: pandas.Int64Index is deprecated and will be removed from pandas in a future version. Use pandas.Index with the appropriate dtype instead.\n",
      "  elif isinstance(data.columns, (pd.Int64Index, pd.RangeIndex)):\n"
     ]
    }
   ],
   "source": [
    "import xgboost as xgb\n",
    "\n",
    "X_train, X_test, y_train, y_test = create_X_y(train_train_data, train_test_data, cat_numerical_covariates, 'log_trip_duration')\n",
    "\n",
    "reg = xgb.XGBRegressor(objective='reg:squarederror', importance_type='total_gain', n_jobs=-1).fit(X_train, y_train)\n",
    "\n",
    "print('train rmsle: ', eval_model(reg, X_train, y_train, metric='rmsle', log=True))\n",
    "print('test rmsle: ', eval_model(reg, X_test, y_test, metric='rmsle', log=True))"
   ]
  },
  {
   "cell_type": "code",
   "execution_count": 19,
   "metadata": {},
   "outputs": [
    {
     "data": {
      "text/html": [
       "<div>\n",
       "<style scoped>\n",
       "    .dataframe tbody tr th:only-of-type {\n",
       "        vertical-align: middle;\n",
       "    }\n",
       "\n",
       "    .dataframe tbody tr th {\n",
       "        vertical-align: top;\n",
       "    }\n",
       "\n",
       "    .dataframe thead th {\n",
       "        text-align: right;\n",
       "    }\n",
       "</style>\n",
       "<table border=\"1\" class=\"dataframe\">\n",
       "  <thead>\n",
       "    <tr style=\"text-align: right;\">\n",
       "      <th></th>\n",
       "      <th>feature_importance</th>\n",
       "    </tr>\n",
       "  </thead>\n",
       "  <tbody>\n",
       "    <tr>\n",
       "      <th>distance_km</th>\n",
       "      <td>0.704744</td>\n",
       "    </tr>\n",
       "    <tr>\n",
       "      <th>l1_distance_km</th>\n",
       "      <td>0.078083</td>\n",
       "    </tr>\n",
       "    <tr>\n",
       "      <th>hour</th>\n",
       "      <td>0.042820</td>\n",
       "    </tr>\n",
       "    <tr>\n",
       "      <th>dropoff_latitude</th>\n",
       "      <td>0.041156</td>\n",
       "    </tr>\n",
       "    <tr>\n",
       "      <th>pickup_longitude</th>\n",
       "      <td>0.038024</td>\n",
       "    </tr>\n",
       "    <tr>\n",
       "      <th>dropoff_longitude</th>\n",
       "      <td>0.032301</td>\n",
       "    </tr>\n",
       "    <tr>\n",
       "      <th>pickup_latitude</th>\n",
       "      <td>0.032104</td>\n",
       "    </tr>\n",
       "    <tr>\n",
       "      <th>dayofweek</th>\n",
       "      <td>0.025648</td>\n",
       "    </tr>\n",
       "    <tr>\n",
       "      <th>passenger_count</th>\n",
       "      <td>0.005120</td>\n",
       "    </tr>\n",
       "  </tbody>\n",
       "</table>\n",
       "</div>"
      ],
      "text/plain": [
       "                   feature_importance\n",
       "distance_km                  0.704744\n",
       "l1_distance_km               0.078083\n",
       "hour                         0.042820\n",
       "dropoff_latitude             0.041156\n",
       "pickup_longitude             0.038024\n",
       "dropoff_longitude            0.032301\n",
       "pickup_latitude              0.032104\n",
       "dayofweek                    0.025648\n",
       "passenger_count              0.005120"
      ]
     },
     "execution_count": 19,
     "metadata": {},
     "output_type": "execute_result"
    }
   ],
   "source": [
    "pd.DataFrame(index=X_train.columns, data=reg.feature_importances_,\n",
    "                columns=['feature_importance']).sort_values(by='feature_importance', ascending=False)"
   ]
  },
  {
   "cell_type": "markdown",
   "metadata": {},
   "source": [
    "## XGBoost GridSearch (with Original Features)"
   ]
  },
  {
   "cell_type": "code",
   "execution_count": 20,
   "metadata": {},
   "outputs": [
    {
     "name": "stderr",
     "output_type": "stream",
     "text": [
      "C:\\Users\\awnya\\miniconda3\\envs\\stat457\\lib\\site-packages\\xgboost\\data.py:262: FutureWarning: pandas.Int64Index is deprecated and will be removed from pandas in a future version. Use pandas.Index with the appropriate dtype instead.\n",
      "  elif isinstance(data.columns, (pd.Int64Index, pd.RangeIndex)):\n"
     ]
    },
    {
     "name": "stdout",
     "output_type": "stream",
     "text": [
      "train rmsle:  0.4316321449449939\n",
      "test rmsle:  0.4799301530467915\n"
     ]
    },
    {
     "name": "stderr",
     "output_type": "stream",
     "text": [
      "C:\\Users\\awnya\\miniconda3\\envs\\stat457\\lib\\site-packages\\xgboost\\data.py:262: FutureWarning: pandas.Int64Index is deprecated and will be removed from pandas in a future version. Use pandas.Index with the appropriate dtype instead.\n",
      "  elif isinstance(data.columns, (pd.Int64Index, pd.RangeIndex)):\n"
     ]
    }
   ],
   "source": [
    "import xgboost as xgb\n",
    "from sklearn.model_selection import GridSearchCV\n",
    "\n",
    "X_train, X_test, y_train, y_test = create_X_y(train_train_data, train_test_data, original_covariates, 'log_trip_duration')\n",
    "\n",
    "params = {'n_estimators': [20, 30, 40, 50, 60], 'max_depth': [4, 5, 6, 7]}\n",
    "reg = xgb.XGBRegressor(objective='reg:squarederror', importance_type='total_gain')\n",
    "\n",
    "cv = GridSearchCV(reg, params, cv=5, n_jobs=-1).fit(X_train, y_train)\n",
    "\n",
    "print('train rmsle: ', eval_model(cv, X_train, y_train, metric='rmsle', log=True))\n",
    "print('test rmsle: ', eval_model(cv, X_test, y_test, metric='rmsle', log=True))"
   ]
  },
  {
   "cell_type": "markdown",
   "metadata": {},
   "source": [
    "Not quite as good as with the added features (incl `distance_km`), but not that much worse.\n",
    "\n",
    "Feature importance without the added features:"
   ]
  },
  {
   "cell_type": "code",
   "execution_count": 21,
   "metadata": {},
   "outputs": [
    {
     "data": {
      "text/html": [
       "<div>\n",
       "<style scoped>\n",
       "    .dataframe tbody tr th:only-of-type {\n",
       "        vertical-align: middle;\n",
       "    }\n",
       "\n",
       "    .dataframe tbody tr th {\n",
       "        vertical-align: top;\n",
       "    }\n",
       "\n",
       "    .dataframe thead th {\n",
       "        text-align: right;\n",
       "    }\n",
       "</style>\n",
       "<table border=\"1\" class=\"dataframe\">\n",
       "  <thead>\n",
       "    <tr style=\"text-align: right;\">\n",
       "      <th></th>\n",
       "      <th>feature_importance</th>\n",
       "    </tr>\n",
       "  </thead>\n",
       "  <tbody>\n",
       "    <tr>\n",
       "      <th>pickup_latitude</th>\n",
       "      <td>0.274408</td>\n",
       "    </tr>\n",
       "    <tr>\n",
       "      <th>pickup_longitude</th>\n",
       "      <td>0.265895</td>\n",
       "    </tr>\n",
       "    <tr>\n",
       "      <th>dropoff_longitude</th>\n",
       "      <td>0.241579</td>\n",
       "    </tr>\n",
       "    <tr>\n",
       "      <th>dropoff_latitude</th>\n",
       "      <td>0.175665</td>\n",
       "    </tr>\n",
       "    <tr>\n",
       "      <th>hour</th>\n",
       "      <td>0.039182</td>\n",
       "    </tr>\n",
       "    <tr>\n",
       "      <th>passenger_count</th>\n",
       "      <td>0.003270</td>\n",
       "    </tr>\n",
       "  </tbody>\n",
       "</table>\n",
       "</div>"
      ],
      "text/plain": [
       "                   feature_importance\n",
       "pickup_latitude              0.274408\n",
       "pickup_longitude             0.265895\n",
       "dropoff_longitude            0.241579\n",
       "dropoff_latitude             0.175665\n",
       "hour                         0.039182\n",
       "passenger_count              0.003270"
      ]
     },
     "execution_count": 21,
     "metadata": {},
     "output_type": "execute_result"
    }
   ],
   "source": [
    "pd.DataFrame(index=X_train.columns, data=cv.best_estimator_.feature_importances_,\n",
    "                columns=['feature_importance']).sort_values(by='feature_importance', ascending=False)"
   ]
  },
  {
   "cell_type": "markdown",
   "metadata": {},
   "source": [
    "Location-related features were most important. It's as if the model is recreating the `distance_km` feature. Those features become much less important when `distance_km` is included."
   ]
  },
  {
   "cell_type": "markdown",
   "metadata": {},
   "source": [
    "## XGBoost GridSearch (all features)"
   ]
  },
  {
   "cell_type": "code",
   "execution_count": 22,
   "metadata": {},
   "outputs": [
    {
     "name": "stdout",
     "output_type": "stream",
     "text": [
      "Fitting 5 folds for each of 24 candidates, totalling 120 fits\n"
     ]
    },
    {
     "name": "stderr",
     "output_type": "stream",
     "text": [
      "C:\\Users\\awnya\\miniconda3\\envs\\stat457\\lib\\site-packages\\xgboost\\data.py:262: FutureWarning: pandas.Int64Index is deprecated and will be removed from pandas in a future version. Use pandas.Index with the appropriate dtype instead.\n",
      "  elif isinstance(data.columns, (pd.Int64Index, pd.RangeIndex)):\n"
     ]
    },
    {
     "name": "stdout",
     "output_type": "stream",
     "text": [
      "train rmsle:  0.43467274066404016\n",
      "test rmsle:  0.44486305260802245\n"
     ]
    },
    {
     "name": "stderr",
     "output_type": "stream",
     "text": [
      "C:\\Users\\awnya\\miniconda3\\envs\\stat457\\lib\\site-packages\\xgboost\\data.py:262: FutureWarning: pandas.Int64Index is deprecated and will be removed from pandas in a future version. Use pandas.Index with the appropriate dtype instead.\n",
      "  elif isinstance(data.columns, (pd.Int64Index, pd.RangeIndex)):\n"
     ]
    }
   ],
   "source": [
    "import xgboost as xgb\n",
    "from sklearn.model_selection import GridSearchCV\n",
    "\n",
    "X_train, X_test, y_train, y_test = create_X_y(train_train_data, train_test_data, cat_numerical_covariates, 'log_trip_duration')\n",
    "\n",
    "params = {\n",
    "    'n_estimators': [60, 80],\n",
    "    'max_depth': [3, 4, 5],\n",
    "    'learning_rate': [0.1, 0.5, 1.0, 1.5],\n",
    "    # 'subsample': [0.9],\n",
    "    # 'colsample_bytree': [0.8, 0.9, 1],\n",
    "    # 'gamma': [0, 1, 5]\n",
    "}\n",
    "\n",
    "reg = xgb.XGBRegressor(objective='reg:squarederror', importance_type='total_gain')\n",
    "\n",
    "cv = GridSearchCV(reg, params, cv=5, n_jobs=-1, verbose=1).fit(X_train, y_train)\n",
    "\n",
    "print('train rmsle: ', eval_model(cv, X_train, y_train, metric='rmsle', log=True))\n",
    "print('test rmsle: ', eval_model(cv, X_test, y_test, metric='rmsle', log=True))"
   ]
  },
  {
   "cell_type": "code",
   "execution_count": 23,
   "metadata": {},
   "outputs": [
    {
     "data": {
      "text/html": [
       "<div>\n",
       "<style scoped>\n",
       "    .dataframe tbody tr th:only-of-type {\n",
       "        vertical-align: middle;\n",
       "    }\n",
       "\n",
       "    .dataframe tbody tr th {\n",
       "        vertical-align: top;\n",
       "    }\n",
       "\n",
       "    .dataframe thead th {\n",
       "        text-align: right;\n",
       "    }\n",
       "</style>\n",
       "<table border=\"1\" class=\"dataframe\">\n",
       "  <thead>\n",
       "    <tr style=\"text-align: right;\">\n",
       "      <th></th>\n",
       "      <th>feature_importance</th>\n",
       "    </tr>\n",
       "  </thead>\n",
       "  <tbody>\n",
       "    <tr>\n",
       "      <th>distance_km</th>\n",
       "      <td>0.780927</td>\n",
       "    </tr>\n",
       "    <tr>\n",
       "      <th>l1_distance_km</th>\n",
       "      <td>0.097191</td>\n",
       "    </tr>\n",
       "    <tr>\n",
       "      <th>hour</th>\n",
       "      <td>0.039640</td>\n",
       "    </tr>\n",
       "    <tr>\n",
       "      <th>dropoff_latitude</th>\n",
       "      <td>0.023518</td>\n",
       "    </tr>\n",
       "    <tr>\n",
       "      <th>pickup_longitude</th>\n",
       "      <td>0.018028</td>\n",
       "    </tr>\n",
       "    <tr>\n",
       "      <th>dayofweek</th>\n",
       "      <td>0.016689</td>\n",
       "    </tr>\n",
       "    <tr>\n",
       "      <th>dropoff_longitude</th>\n",
       "      <td>0.011645</td>\n",
       "    </tr>\n",
       "    <tr>\n",
       "      <th>pickup_latitude</th>\n",
       "      <td>0.011578</td>\n",
       "    </tr>\n",
       "    <tr>\n",
       "      <th>passenger_count</th>\n",
       "      <td>0.000785</td>\n",
       "    </tr>\n",
       "  </tbody>\n",
       "</table>\n",
       "</div>"
      ],
      "text/plain": [
       "                   feature_importance\n",
       "distance_km                  0.780927\n",
       "l1_distance_km               0.097191\n",
       "hour                         0.039640\n",
       "dropoff_latitude             0.023518\n",
       "pickup_longitude             0.018028\n",
       "dayofweek                    0.016689\n",
       "dropoff_longitude            0.011645\n",
       "pickup_latitude              0.011578\n",
       "passenger_count              0.000785"
      ]
     },
     "execution_count": 23,
     "metadata": {},
     "output_type": "execute_result"
    }
   ],
   "source": [
    "pd.DataFrame(index=X_train.columns, data=cv.best_estimator_.feature_importances_,\n",
    "                columns=['feature_importance']).sort_values(by='feature_importance', ascending=False)"
   ]
  },
  {
   "cell_type": "markdown",
   "metadata": {},
   "source": [
    "## XGBoost Recursive Feature Elimination"
   ]
  },
  {
   "cell_type": "code",
   "execution_count": 24,
   "metadata": {},
   "outputs": [
    {
     "name": "stdout",
     "output_type": "stream",
     "text": [
      "train rmsle:  0.34244487607368546\n",
      "test rmsle:  0.460820634011596\n"
     ]
    }
   ],
   "source": [
    "from sklearn.feature_selection import RFECV\n",
    "import xgboost as xgb\n",
    "\n",
    "X_train, X_test, y_train, y_test = create_X_y(train_train_data, train_test_data, numerical_covariates, 'log_trip_duration')\n",
    "\n",
    "reg = xgb.XGBRegressor(objective='reg:squarederror', importance_type='total_gain')\n",
    "rfecv = RFECV(reg, min_features_to_select=1, cv=10).fit(X_train, y_train)\n",
    "\n",
    "print('train rmsle: ', eval_model(rfecv, X_train, y_train, metric='rmsle', log=True))\n",
    "print('test rmsle: ', eval_model(rfecv, X_test, y_test, metric='rmsle', log=True))"
   ]
  },
  {
   "cell_type": "code",
   "execution_count": 25,
   "metadata": {},
   "outputs": [
    {
     "data": {
      "text/plain": [
       "array([ True,  True,  True,  True,  True,  True,  True,  True])"
      ]
     },
     "execution_count": 25,
     "metadata": {},
     "output_type": "execute_result"
    }
   ],
   "source": [
    "rfecv.support_"
   ]
  }
 ],
 "metadata": {
  "interpreter": {
   "hash": "205d50f58f82a2b4d9ed38d5fc136ab30afd6ca8c2e73e92b6068ffbf36380d0"
  },
  "kernelspec": {
   "display_name": "Python 3.8.12 ('ml')",
   "language": "python",
   "name": "python3"
  },
  "language_info": {
   "codemirror_mode": {
    "name": "ipython",
    "version": 3
   },
   "file_extension": ".py",
   "mimetype": "text/x-python",
   "name": "python",
   "nbconvert_exporter": "python",
   "pygments_lexer": "ipython3",
   "version": "3.9.7"
  },
  "orig_nbformat": 4
 },
 "nbformat": 4,
 "nbformat_minor": 2
}
