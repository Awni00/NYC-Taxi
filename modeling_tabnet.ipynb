{
 "cells": [
  {
   "cell_type": "markdown",
   "id": "7981c7e9",
   "metadata": {
    "_cell_guid": "20a9e02e-6def-4f5e-bf06-1860b46303c2",
    "_uuid": "224f8ebf-6a83-4cae-bebd-47d2d0265b34",
    "papermill": {
     "duration": 0.021845,
     "end_time": "2022-03-23T14:07:53.175516",
     "exception": false,
     "start_time": "2022-03-23T14:07:53.153671",
     "status": "completed"
    },
    "tags": []
   },
   "source": [
    "# TabNet Modeling - Predicting Taxi Trip Durations in NYC\n",
    "\n",
    "This notebook experiments with the TabNet neural network architecture for learning on tabular data."
   ]
  },
  {
   "cell_type": "markdown",
   "id": "5c5e451f",
   "metadata": {
    "_cell_guid": "99067bf4-f48f-4614-a7ef-78d6e65e148c",
    "_uuid": "229aec8f-49fa-4594-9094-9411f7d623aa",
    "papermill": {
     "duration": 0.019393,
     "end_time": "2022-03-23T14:07:53.214940",
     "exception": false,
     "start_time": "2022-03-23T14:07:53.195547",
     "status": "completed"
    },
    "tags": []
   },
   "source": [
    "## Set up"
   ]
  },
  {
   "cell_type": "code",
   "execution_count": 1,
   "id": "445c497e",
   "metadata": {
    "_cell_guid": "3bcf6fb3-aff4-4b3a-9318-b18336168a9d",
    "_uuid": "696a8f62-e2d8-483c-ab35-6b4f1cac57fb",
    "collapsed": false,
    "execution": {
     "iopub.execute_input": "2022-03-23T14:07:53.265505Z",
     "iopub.status.busy": "2022-03-23T14:07:53.264661Z",
     "iopub.status.idle": "2022-03-23T14:07:54.050808Z",
     "shell.execute_reply": "2022-03-23T14:07:54.050058Z",
     "shell.execute_reply.started": "2022-03-19T20:47:37.305028Z"
    },
    "jupyter": {
     "outputs_hidden": false
    },
    "papermill": {
     "duration": 0.816449,
     "end_time": "2022-03-23T14:07:54.050957",
     "exception": false,
     "start_time": "2022-03-23T14:07:53.234508",
     "status": "completed"
    },
    "tags": []
   },
   "outputs": [],
   "source": [
    "import numpy as np\n",
    "import pandas as pd\n",
    "\n",
    "import matplotlib.pyplot as plt\n",
    "import seaborn as sns\n",
    "\n",
    "sns.set_theme()\n",
    "sns.set_style('whitegrid')"
   ]
  },
  {
   "cell_type": "code",
   "execution_count": 2,
   "id": "0aa90f8f",
   "metadata": {
    "execution": {
     "iopub.execute_input": "2022-03-23T14:07:54.105725Z",
     "iopub.status.busy": "2022-03-23T14:07:54.104754Z",
     "iopub.status.idle": "2022-03-23T14:07:54.106537Z",
     "shell.execute_reply": "2022-03-23T14:07:54.106969Z",
     "shell.execute_reply.started": "2022-03-19T20:48:30.43043Z"
    },
    "papermill": {
     "duration": 0.03665,
     "end_time": "2022-03-23T14:07:54.107100",
     "exception": false,
     "start_time": "2022-03-23T14:07:54.070450",
     "status": "completed"
    },
    "tags": []
   },
   "outputs": [],
   "source": [
    "import pandas as pd\n",
    "import numpy as np\n",
    "\n",
    "from load_preprocess_data import load_train_data, load_test_data"
   ]
  },
  {
   "cell_type": "code",
   "execution_count": 3,
   "id": "c459a546",
   "metadata": {
    "_cell_guid": "1571c2d3-7d9c-441d-ae3a-24468f983020",
    "_uuid": "7b521a2b-af82-4adf-8a80-dae87eef66dd",
    "collapsed": false,
    "execution": {
     "iopub.execute_input": "2022-03-23T14:07:54.149057Z",
     "iopub.status.busy": "2022-03-23T14:07:54.148531Z",
     "iopub.status.idle": "2022-03-23T14:07:55.283463Z",
     "shell.execute_reply": "2022-03-23T14:07:55.282878Z",
     "shell.execute_reply.started": "2022-03-19T20:52:12.956282Z"
    },
    "jupyter": {
     "outputs_hidden": false
    },
    "papermill": {
     "duration": 1.157676,
     "end_time": "2022-03-23T14:07:55.283617",
     "exception": false,
     "start_time": "2022-03-23T14:07:54.125941",
     "status": "completed"
    },
    "tags": []
   },
   "outputs": [],
   "source": [
    "# load data\n",
    "train_data = load_train_data('data/W22P1_train.csv')\n",
    "test_data = load_test_data('data/W22P1_test.csv')"
   ]
  },
  {
   "cell_type": "code",
   "execution_count": 4,
   "id": "6e20cc48",
   "metadata": {
    "_cell_guid": "67c2920a-cda3-474d-8374-b8166c5d42ee",
    "_uuid": "1975e5f4-0c0e-4e60-ad40-ad335690554e",
    "collapsed": false,
    "execution": {
     "iopub.execute_input": "2022-03-23T14:07:55.329446Z",
     "iopub.status.busy": "2022-03-23T14:07:55.328750Z",
     "iopub.status.idle": "2022-03-23T14:07:55.346169Z",
     "shell.execute_reply": "2022-03-23T14:07:55.346630Z",
     "shell.execute_reply.started": "2022-03-19T20:52:16.751735Z"
    },
    "jupyter": {
     "outputs_hidden": false
    },
    "papermill": {
     "duration": 0.043542,
     "end_time": "2022-03-23T14:07:55.346768",
     "exception": false,
     "start_time": "2022-03-23T14:07:55.303226",
     "status": "completed"
    },
    "tags": []
   },
   "outputs": [
    {
     "data": {
      "text/html": [
       "<div>\n",
       "<style scoped>\n",
       "    .dataframe tbody tr th:only-of-type {\n",
       "        vertical-align: middle;\n",
       "    }\n",
       "\n",
       "    .dataframe tbody tr th {\n",
       "        vertical-align: top;\n",
       "    }\n",
       "\n",
       "    .dataframe thead th {\n",
       "        text-align: right;\n",
       "    }\n",
       "</style>\n",
       "<table border=\"1\" class=\"dataframe\">\n",
       "  <thead>\n",
       "    <tr style=\"text-align: right;\">\n",
       "      <th></th>\n",
       "      <th>pickup_datetime</th>\n",
       "      <th>dayofweek</th>\n",
       "      <th>hour</th>\n",
       "      <th>passenger_count</th>\n",
       "      <th>distance_km</th>\n",
       "      <th>pickup_longitude</th>\n",
       "      <th>pickup_latitude</th>\n",
       "      <th>dropoff_longitude</th>\n",
       "      <th>dropoff_latitude</th>\n",
       "      <th>trip_duration</th>\n",
       "      <th>log_trip_duration</th>\n",
       "    </tr>\n",
       "    <tr>\n",
       "      <th>id</th>\n",
       "      <th></th>\n",
       "      <th></th>\n",
       "      <th></th>\n",
       "      <th></th>\n",
       "      <th></th>\n",
       "      <th></th>\n",
       "      <th></th>\n",
       "      <th></th>\n",
       "      <th></th>\n",
       "      <th></th>\n",
       "      <th></th>\n",
       "    </tr>\n",
       "  </thead>\n",
       "  <tbody>\n",
       "    <tr>\n",
       "      <th>0</th>\n",
       "      <td>2016-01-07 19:32:15</td>\n",
       "      <td>3</td>\n",
       "      <td>19</td>\n",
       "      <td>1</td>\n",
       "      <td>1.259700</td>\n",
       "      <td>-73.986389</td>\n",
       "      <td>40.756615</td>\n",
       "      <td>-73.999794</td>\n",
       "      <td>40.761631</td>\n",
       "      <td>520</td>\n",
       "      <td>6.253829</td>\n",
       "    </tr>\n",
       "    <tr>\n",
       "      <th>1</th>\n",
       "      <td>2016-01-27 08:07:32</td>\n",
       "      <td>2</td>\n",
       "      <td>8</td>\n",
       "      <td>1</td>\n",
       "      <td>2.356650</td>\n",
       "      <td>-73.956039</td>\n",
       "      <td>40.767609</td>\n",
       "      <td>-73.968201</td>\n",
       "      <td>40.786690</td>\n",
       "      <td>989</td>\n",
       "      <td>6.896694</td>\n",
       "    </tr>\n",
       "    <tr>\n",
       "      <th>2</th>\n",
       "      <td>2016-01-31 13:52:55</td>\n",
       "      <td>6</td>\n",
       "      <td>13</td>\n",
       "      <td>1</td>\n",
       "      <td>2.806862</td>\n",
       "      <td>-73.975998</td>\n",
       "      <td>40.751137</td>\n",
       "      <td>-74.001854</td>\n",
       "      <td>40.735229</td>\n",
       "      <td>657</td>\n",
       "      <td>6.487684</td>\n",
       "    </tr>\n",
       "    <tr>\n",
       "      <th>3</th>\n",
       "      <td>2016-01-19 08:00:19</td>\n",
       "      <td>1</td>\n",
       "      <td>8</td>\n",
       "      <td>3</td>\n",
       "      <td>3.155510</td>\n",
       "      <td>-73.960121</td>\n",
       "      <td>40.781952</td>\n",
       "      <td>-73.971970</td>\n",
       "      <td>40.755039</td>\n",
       "      <td>1035</td>\n",
       "      <td>6.942157</td>\n",
       "    </tr>\n",
       "    <tr>\n",
       "      <th>4</th>\n",
       "      <td>2016-01-25 23:32:14</td>\n",
       "      <td>0</td>\n",
       "      <td>23</td>\n",
       "      <td>1</td>\n",
       "      <td>1.725446</td>\n",
       "      <td>-73.987434</td>\n",
       "      <td>40.760139</td>\n",
       "      <td>-73.990982</td>\n",
       "      <td>40.744862</td>\n",
       "      <td>621</td>\n",
       "      <td>6.431331</td>\n",
       "    </tr>\n",
       "  </tbody>\n",
       "</table>\n",
       "</div>"
      ],
      "text/plain": [
       "       pickup_datetime  dayofweek  hour  passenger_count  distance_km  \\\n",
       "id                                                                      \n",
       "0  2016-01-07 19:32:15          3    19                1     1.259700   \n",
       "1  2016-01-27 08:07:32          2     8                1     2.356650   \n",
       "2  2016-01-31 13:52:55          6    13                1     2.806862   \n",
       "3  2016-01-19 08:00:19          1     8                3     3.155510   \n",
       "4  2016-01-25 23:32:14          0    23                1     1.725446   \n",
       "\n",
       "    pickup_longitude  pickup_latitude  dropoff_longitude  dropoff_latitude  \\\n",
       "id                                                                           \n",
       "0         -73.986389        40.756615         -73.999794         40.761631   \n",
       "1         -73.956039        40.767609         -73.968201         40.786690   \n",
       "2         -73.975998        40.751137         -74.001854         40.735229   \n",
       "3         -73.960121        40.781952         -73.971970         40.755039   \n",
       "4         -73.987434        40.760139         -73.990982         40.744862   \n",
       "\n",
       "    trip_duration  log_trip_duration  \n",
       "id                                    \n",
       "0             520           6.253829  \n",
       "1             989           6.896694  \n",
       "2             657           6.487684  \n",
       "3            1035           6.942157  \n",
       "4             621           6.431331  "
      ]
     },
     "execution_count": 4,
     "metadata": {},
     "output_type": "execute_result"
    }
   ],
   "source": [
    "train_data.head()"
   ]
  },
  {
   "cell_type": "code",
   "execution_count": 5,
   "id": "d1744e73",
   "metadata": {
    "_cell_guid": "b18faa5a-90de-4100-8609-58c0dcdb1e26",
    "_uuid": "2db892cf-c5e3-40ac-9ed0-f7b9c7d03437",
    "collapsed": false,
    "execution": {
     "iopub.execute_input": "2022-03-23T14:07:55.396341Z",
     "iopub.status.busy": "2022-03-23T14:07:55.394680Z",
     "iopub.status.idle": "2022-03-23T14:07:55.398547Z",
     "shell.execute_reply": "2022-03-23T14:07:55.398045Z",
     "shell.execute_reply.started": "2022-03-19T20:52:21.999721Z"
    },
    "jupyter": {
     "outputs_hidden": false
    },
    "papermill": {
     "duration": 0.030878,
     "end_time": "2022-03-23T14:07:55.398678",
     "exception": false,
     "start_time": "2022-03-23T14:07:55.367800",
     "status": "completed"
    },
    "tags": []
   },
   "outputs": [
    {
     "name": "stdout",
     "output_type": "stream",
     "text": [
      "covariates:  ['pickup_datetime', 'dayofweek', 'hour', 'passenger_count', 'distance_km', 'pickup_longitude', 'pickup_latitude', 'dropoff_longitude', 'dropoff_latitude']\n"
     ]
    }
   ],
   "source": [
    "all_covariates = list(test_data.columns)\n",
    "\n",
    "original_covariates = ['hour', 'passenger_count',\n",
    "                       'pickup_longitude', 'pickup_latitude',\n",
    "                       'dropoff_longitude', 'dropoff_latitude']\n",
    "\n",
    "# numerical covariates\n",
    "numerical_covariates = ['hour', 'passenger_count', 'distance_km',\n",
    "                        'pickup_longitude', 'pickup_latitude',\n",
    "                        'dropoff_longitude', 'dropoff_latitude']\n",
    "\n",
    "# categorical + numerical covariates\n",
    "cat_numerical_covariates = ['dayofweek', 'hour',\n",
    "                      'passenger_count', 'distance_km',\n",
    "                      'pickup_longitude', 'pickup_latitude',\n",
    "                      'dropoff_longitude', 'dropoff_latitude']\n",
    "\n",
    "print('covariates: ', all_covariates)"
   ]
  },
  {
   "cell_type": "code",
   "execution_count": 6,
   "id": "0480245f",
   "metadata": {
    "_cell_guid": "fd91dc37-4f56-4e2b-b8d8-3d452b14ccc3",
    "_uuid": "c8a89e74-fc6f-42c7-8e12-f117ba806590",
    "collapsed": false,
    "execution": {
     "iopub.execute_input": "2022-03-23T14:07:55.443764Z",
     "iopub.status.busy": "2022-03-23T14:07:55.443209Z",
     "iopub.status.idle": "2022-03-23T14:07:55.593610Z",
     "shell.execute_reply": "2022-03-23T14:07:55.592918Z",
     "shell.execute_reply.started": "2022-03-19T20:52:23.863011Z"
    },
    "jupyter": {
     "outputs_hidden": false
    },
    "papermill": {
     "duration": 0.174207,
     "end_time": "2022-03-23T14:07:55.593749",
     "exception": false,
     "start_time": "2022-03-23T14:07:55.419542",
     "status": "completed"
    },
    "tags": []
   },
   "outputs": [],
   "source": [
    "# train-test split the training data (so that we can evaluate without submitting)\n",
    "from sklearn.model_selection import train_test_split\n",
    "train_train_data, train_test_data = train_test_split(train_data, test_size=0.1)"
   ]
  },
  {
   "cell_type": "code",
   "execution_count": 7,
   "id": "0b3ecb7a",
   "metadata": {
    "_cell_guid": "f938ae53-bbdf-4798-97af-d707cd97b60a",
    "_uuid": "73917482-b497-4be1-856c-37d720513c4f",
    "collapsed": false,
    "execution": {
     "iopub.execute_input": "2022-03-23T14:07:55.639587Z",
     "iopub.status.busy": "2022-03-23T14:07:55.638791Z",
     "iopub.status.idle": "2022-03-23T14:07:55.641112Z",
     "shell.execute_reply": "2022-03-23T14:07:55.640722Z",
     "shell.execute_reply.started": "2022-03-19T20:52:24.148738Z"
    },
    "jupyter": {
     "outputs_hidden": false
    },
    "papermill": {
     "duration": 0.027509,
     "end_time": "2022-03-23T14:07:55.641245",
     "exception": false,
     "start_time": "2022-03-23T14:07:55.613736",
     "status": "completed"
    },
    "tags": []
   },
   "outputs": [],
   "source": [
    "def create_X_y(train_data, test_data, covariates, label):\n",
    "    X_train = train_data[covariates]\n",
    "    X_test = test_data[covariates]\n",
    "\n",
    "    y_train = train_data[label]\n",
    "    y_test = test_data[label]\n",
    "\n",
    "    return X_train, X_test, y_train, y_test"
   ]
  },
  {
   "cell_type": "code",
   "execution_count": 8,
   "id": "ba534041",
   "metadata": {
    "_cell_guid": "1b8c29e8-e862-4dd8-adb9-f6739e6c36a4",
    "_uuid": "5eef8a38-0d01-445d-b266-c1b027e93f60",
    "collapsed": false,
    "execution": {
     "iopub.execute_input": "2022-03-23T14:07:55.693904Z",
     "iopub.status.busy": "2022-03-23T14:07:55.691990Z",
     "iopub.status.idle": "2022-03-23T14:07:55.694617Z",
     "shell.execute_reply": "2022-03-23T14:07:55.695079Z",
     "shell.execute_reply.started": "2022-03-19T20:52:24.523668Z"
    },
    "jupyter": {
     "outputs_hidden": false
    },
    "papermill": {
     "duration": 0.032815,
     "end_time": "2022-03-23T14:07:55.695248",
     "exception": false,
     "start_time": "2022-03-23T14:07:55.662433",
     "status": "completed"
    },
    "tags": []
   },
   "outputs": [],
   "source": [
    "from sklearn.metrics import mean_squared_log_error, mean_absolute_error, mean_squared_error\n",
    "\n",
    "def eval_model(model, X, y, metric='rmsle', log=False):\n",
    "    '''evaluate model on given model via the given metric'''\n",
    "\n",
    "    y_pred = model.predict(X)\n",
    "    if log:\n",
    "        y_pred = np.exp(y_pred)\n",
    "        y = np.exp(y)\n",
    "\n",
    "    if metric=='rmsle':\n",
    "        return np.sqrt(mean_squared_log_error(y, y_pred))\n",
    "    elif 'msle':\n",
    "        return mean_squared_log_error(y, y_pred)\n",
    "    elif metric=='mse':\n",
    "        return mean_squared_error(y, y_pred)\n",
    "    elif metric=='rmse':\n",
    "        return np.sqrt(mean_squared_error(y, y_pred))\n",
    "    elif metric=='mae':\n",
    "        return mean_absolute_error(y, y_pred)\n",
    "    else:\n",
    "        raise ValueError()"
   ]
  },
  {
   "cell_type": "code",
   "execution_count": 9,
   "id": "f81c2ab3",
   "metadata": {
    "_cell_guid": "3b067adc-8140-48bd-860d-a4885783a05b",
    "_uuid": "2804675e-1897-4d05-a228-50c3acca29b5",
    "collapsed": false,
    "execution": {
     "iopub.execute_input": "2022-03-23T14:07:55.747071Z",
     "iopub.status.busy": "2022-03-23T14:07:55.746473Z",
     "iopub.status.idle": "2022-03-23T14:07:55.750060Z",
     "shell.execute_reply": "2022-03-23T14:07:55.750574Z",
     "shell.execute_reply.started": "2022-03-19T20:52:24.98617Z"
    },
    "jupyter": {
     "outputs_hidden": false
    },
    "papermill": {
     "duration": 0.032225,
     "end_time": "2022-03-23T14:07:55.750722",
     "exception": false,
     "start_time": "2022-03-23T14:07:55.718497",
     "status": "completed"
    },
    "tags": []
   },
   "outputs": [],
   "source": [
    "def create_submission(model, covariates, log=False):\n",
    "    X_test = test_data[covariates]\n",
    "    y_pred = model.predict(X_test)\n",
    "\n",
    "    if log:\n",
    "        y_pred = np.exp(y_pred)\n",
    "\n",
    "    df = pd.DataFrame(index=test_data.index, data=y_pred, columns=['trip_duration'])\n",
    "\n",
    "    return df"
   ]
  },
  {
   "cell_type": "markdown",
   "id": "1308bc28",
   "metadata": {
    "_cell_guid": "cf599e7d-ce45-4e9e-8889-08dcb5c1d859",
    "_uuid": "cc340539-04cc-4683-a9e0-9c3447aeb75c",
    "papermill": {
     "duration": 0.021804,
     "end_time": "2022-03-23T14:07:55.839402",
     "exception": false,
     "start_time": "2022-03-23T14:07:55.817598",
     "status": "completed"
    },
    "tags": []
   },
   "source": [
    "## TabNet\n",
    "\n",
    "> https://arxiv.org/pdf/1908.07442.pdf\n",
    "\n",
    "> https://github.com/titu1994/tf-TabNet"
   ]
  },
  {
   "cell_type": "code",
   "execution_count": 11,
   "id": "0e10d69f",
   "metadata": {
    "execution": {
     "iopub.execute_input": "2022-03-23T14:08:43.811008Z",
     "iopub.status.busy": "2022-03-23T14:08:43.810209Z",
     "iopub.status.idle": "2022-03-23T14:08:47.019746Z",
     "shell.execute_reply": "2022-03-23T14:08:47.018966Z",
     "shell.execute_reply.started": "2022-03-19T21:52:38.054757Z"
    },
    "papermill": {
     "duration": 3.408931,
     "end_time": "2022-03-23T14:08:47.019926",
     "exception": false,
     "start_time": "2022-03-23T14:08:43.610995",
     "status": "completed"
    },
    "tags": []
   },
   "outputs": [
    {
     "name": "stderr",
     "output_type": "stream",
     "text": [
      "2022-03-23 14:08:46.965740: W tensorflow/stream_executor/platform/default/dso_loader.cc:64] Could not load dynamic library 'libcusolver.so.11'; dlerror: libcusolver.so.11: cannot open shared object file: No such file or directory; LD_LIBRARY_PATH: /usr/local/cuda/lib64:/usr/local/cuda/lib:/usr/local/lib/x86_64-linux-gnu:/usr/local/nvidia/lib:/usr/local/nvidia/lib64:/usr/local/nvidia/lib:/usr/local/nvidia/lib64\n",
      "2022-03-23 14:08:46.988063: W tensorflow/core/common_runtime/gpu/gpu_device.cc:1850] Cannot dlopen some GPU libraries. Please make sure the missing libraries mentioned above are installed properly if you would like to use GPU. Follow the guide at https://www.tensorflow.org/install/gpu for how to download and setup the required libraries for your platform.\n",
      "Skipping registering GPU devices...\n"
     ]
    }
   ],
   "source": [
    "from tabnet import TabNetRegressor\n",
    "import tensorflow as tf\n",
    "\n",
    "col_names = numerical_covariates\n",
    "\n",
    "feature_columns = []\n",
    "for col_name in col_names:\n",
    "    feature_columns.append(tf.feature_column.numeric_column(col_name))\n",
    "\n",
    "X_train, X_test, y_train, y_test = create_X_y(train_train_data, train_test_data, col_names, 'log_trip_duration')\n",
    "\n",
    "BATCH_SIZE = len(X_train) // 100\n",
    "\n",
    "train_ds = tf.data.Dataset.from_tensor_slices((dict(X_train), y_train)).batch(BATCH_SIZE)\n",
    "test_ds = tf.data.Dataset.from_tensor_slices((dict(X_test), y_test)).batch(BATCH_SIZE)"
   ]
  },
  {
   "cell_type": "code",
   "execution_count": 12,
   "id": "0552a5b7",
   "metadata": {
    "_cell_guid": "826b22ab-33d7-4ec7-981a-e5c79b158cd3",
    "_uuid": "20ae0588-8e72-4bbe-a3f1-8a006096884b",
    "collapsed": false,
    "execution": {
     "iopub.execute_input": "2022-03-23T14:08:47.429959Z",
     "iopub.status.busy": "2022-03-23T14:08:47.429067Z",
     "iopub.status.idle": "2022-03-23T14:08:47.497782Z",
     "shell.execute_reply": "2022-03-23T14:08:47.498248Z",
     "shell.execute_reply.started": "2022-03-19T21:52:39.52974Z"
    },
    "jupyter": {
     "outputs_hidden": false
    },
    "papermill": {
     "duration": 0.282305,
     "end_time": "2022-03-23T14:08:47.498399",
     "exception": false,
     "start_time": "2022-03-23T14:08:47.216094",
     "status": "completed"
    },
    "tags": []
   },
   "outputs": [
    {
     "name": "stdout",
     "output_type": "stream",
     "text": [
      "[TabNet]: 128 features will be used for decision steps.\n"
     ]
    }
   ],
   "source": [
    "model = TabNetRegressor(feature_columns=feature_columns, num_regressors=1, feature_dim=256, output_dim=128)"
   ]
  },
  {
   "cell_type": "code",
   "execution_count": 13,
   "id": "5493d7b8",
   "metadata": {
    "_cell_guid": "94d9d4b7-a41c-40fc-a2e4-4f053fbae66d",
    "_uuid": "b1a3c9b7-7239-478a-8684-74bdcd9178fe",
    "collapsed": false,
    "execution": {
     "iopub.execute_input": "2022-03-23T14:08:47.905194Z",
     "iopub.status.busy": "2022-03-23T14:08:47.904316Z",
     "iopub.status.idle": "2022-03-23T14:08:47.916457Z",
     "shell.execute_reply": "2022-03-23T14:08:47.915963Z",
     "shell.execute_reply.started": "2022-03-19T23:00:16.96772Z"
    },
    "jupyter": {
     "outputs_hidden": false
    },
    "papermill": {
     "duration": 0.229738,
     "end_time": "2022-03-23T14:08:47.916588",
     "exception": false,
     "start_time": "2022-03-23T14:08:47.686850",
     "status": "completed"
    },
    "tags": []
   },
   "outputs": [],
   "source": [
    "# lr = tf.keras.optimizers.schedules.ExponentialDecay(0.01, decay_steps=100, decay_rate=0.9, staircase=False)\n",
    "# optimizer = tf.keras.optimizers.Adam(learning_rate=0.01)\n",
    "optimizer = tf.keras.optimizers.Adamax(learning_rate=0.01, beta_1=0.9, beta_2=0.999, epsilon=1e-07, name=\"Adamax\")\n",
    "rmse_metric = tf.keras.metrics.RootMeanSquaredError()\n",
    "model.compile(optimizer, loss='mean_squared_error', metrics=['mse', rmse_metric])"
   ]
  },
  {
   "cell_type": "code",
   "execution_count": 14,
   "id": "e54f2d3d",
   "metadata": {
    "_cell_guid": "01c14058-2af8-421d-83d9-329e0c540917",
    "_uuid": "06889996-ccaf-4179-a604-1bfd4aeb8f4a",
    "collapsed": false,
    "execution": {
     "iopub.execute_input": "2022-03-23T14:08:48.345098Z",
     "iopub.status.busy": "2022-03-23T14:08:48.344236Z",
     "iopub.status.idle": "2022-03-23T14:40:15.528414Z",
     "shell.execute_reply": "2022-03-23T14:40:15.528952Z",
     "shell.execute_reply.started": "2022-03-19T23:00:18.052416Z"
    },
    "jupyter": {
     "outputs_hidden": false
    },
    "papermill": {
     "duration": 1887.407206,
     "end_time": "2022-03-23T14:40:15.529145",
     "exception": false,
     "start_time": "2022-03-23T14:08:48.121939",
     "status": "completed"
    },
    "tags": []
   },
   "outputs": [
    {
     "name": "stdout",
     "output_type": "stream",
     "text": [
      "Epoch 1/100\n",
      "100/100 - 29s - loss: 2.4443 - mse: 2.4443 - root_mean_squared_error: 1.5634 - val_loss: 0.5713 - val_mse: 0.5713 - val_root_mean_squared_error: 0.7558 - 29s/epoch - 288ms/step\n",
      "Epoch 2/100\n",
      "100/100 - 15s - loss: 0.6208 - mse: 0.6208 - root_mean_squared_error: 0.7879 - val_loss: 0.5695 - val_mse: 0.5695 - val_root_mean_squared_error: 0.7546 - 15s/epoch - 145ms/step\n",
      "Epoch 3/100\n",
      "100/100 - 15s - loss: 0.6191 - mse: 0.6191 - root_mean_squared_error: 0.7868 - val_loss: 0.5667 - val_mse: 0.5667 - val_root_mean_squared_error: 0.7528 - 15s/epoch - 147ms/step\n",
      "Epoch 4/100\n",
      "100/100 - 15s - loss: 0.6167 - mse: 0.6167 - root_mean_squared_error: 0.7853 - val_loss: 0.5647 - val_mse: 0.5647 - val_root_mean_squared_error: 0.7515 - 15s/epoch - 152ms/step\n",
      "Epoch 5/100\n",
      "100/100 - 15s - loss: 0.6149 - mse: 0.6149 - root_mean_squared_error: 0.7841 - val_loss: 0.5625 - val_mse: 0.5625 - val_root_mean_squared_error: 0.7500 - 15s/epoch - 146ms/step\n",
      "Epoch 6/100\n",
      "100/100 - 16s - loss: 0.6128 - mse: 0.6128 - root_mean_squared_error: 0.7828 - val_loss: 0.5603 - val_mse: 0.5603 - val_root_mean_squared_error: 0.7485 - 16s/epoch - 157ms/step\n",
      "Epoch 7/100\n",
      "100/100 - 15s - loss: 0.6108 - mse: 0.6108 - root_mean_squared_error: 0.7815 - val_loss: 0.5582 - val_mse: 0.5582 - val_root_mean_squared_error: 0.7471 - 15s/epoch - 146ms/step\n",
      "Epoch 8/100\n",
      "100/100 - 15s - loss: 0.6088 - mse: 0.6088 - root_mean_squared_error: 0.7802 - val_loss: 0.5559 - val_mse: 0.5559 - val_root_mean_squared_error: 0.7456 - 15s/epoch - 151ms/step\n",
      "Epoch 9/100\n",
      "100/100 - 15s - loss: 0.6065 - mse: 0.6065 - root_mean_squared_error: 0.7788 - val_loss: 0.5528 - val_mse: 0.5528 - val_root_mean_squared_error: 0.7435 - 15s/epoch - 154ms/step\n",
      "Epoch 10/100\n",
      "100/100 - 15s - loss: 0.6038 - mse: 0.6038 - root_mean_squared_error: 0.7771 - val_loss: 0.5490 - val_mse: 0.5490 - val_root_mean_squared_error: 0.7409 - 15s/epoch - 149ms/step\n",
      "Epoch 11/100\n",
      "100/100 - 15s - loss: 0.6008 - mse: 0.6008 - root_mean_squared_error: 0.7751 - val_loss: 0.5457 - val_mse: 0.5457 - val_root_mean_squared_error: 0.7387 - 15s/epoch - 152ms/step\n",
      "Epoch 12/100\n",
      "100/100 - 15s - loss: 0.5978 - mse: 0.5978 - root_mean_squared_error: 0.7732 - val_loss: 0.5422 - val_mse: 0.5422 - val_root_mean_squared_error: 0.7363 - 15s/epoch - 146ms/step\n",
      "Epoch 13/100\n",
      "100/100 - 15s - loss: 0.5949 - mse: 0.5949 - root_mean_squared_error: 0.7713 - val_loss: 0.5390 - val_mse: 0.5390 - val_root_mean_squared_error: 0.7341 - 15s/epoch - 153ms/step\n",
      "Epoch 14/100\n",
      "100/100 - 15s - loss: 0.5923 - mse: 0.5923 - root_mean_squared_error: 0.7696 - val_loss: 0.5360 - val_mse: 0.5360 - val_root_mean_squared_error: 0.7321 - 15s/epoch - 145ms/step\n",
      "Epoch 15/100\n",
      "100/100 - 15s - loss: 0.5895 - mse: 0.5895 - root_mean_squared_error: 0.7678 - val_loss: 0.5332 - val_mse: 0.5332 - val_root_mean_squared_error: 0.7302 - 15s/epoch - 147ms/step\n",
      "Epoch 16/100\n",
      "100/100 - 15s - loss: 0.5870 - mse: 0.5870 - root_mean_squared_error: 0.7662 - val_loss: 0.5306 - val_mse: 0.5306 - val_root_mean_squared_error: 0.7284 - 15s/epoch - 153ms/step\n",
      "Epoch 17/100\n",
      "100/100 - 15s - loss: 0.5838 - mse: 0.5838 - root_mean_squared_error: 0.7641 - val_loss: 0.5314 - val_mse: 0.5314 - val_root_mean_squared_error: 0.7290 - 15s/epoch - 145ms/step\n",
      "Epoch 18/100\n",
      "100/100 - 15s - loss: 0.5785 - mse: 0.5785 - root_mean_squared_error: 0.7606 - val_loss: 0.5440 - val_mse: 0.5440 - val_root_mean_squared_error: 0.7376 - 15s/epoch - 152ms/step\n",
      "Epoch 19/100\n",
      "100/100 - 15s - loss: 0.5707 - mse: 0.5707 - root_mean_squared_error: 0.7554 - val_loss: 0.5373 - val_mse: 0.5373 - val_root_mean_squared_error: 0.7330 - 15s/epoch - 150ms/step\n",
      "Epoch 20/100\n",
      "100/100 - 15s - loss: 0.5649 - mse: 0.5649 - root_mean_squared_error: 0.7516 - val_loss: 0.5396 - val_mse: 0.5396 - val_root_mean_squared_error: 0.7345 - 15s/epoch - 148ms/step\n",
      "Epoch 21/100\n",
      "100/100 - 15s - loss: 0.5639 - mse: 0.5639 - root_mean_squared_error: 0.7510 - val_loss: 0.5495 - val_mse: 0.5495 - val_root_mean_squared_error: 0.7413 - 15s/epoch - 151ms/step\n",
      "Epoch 22/100\n",
      "100/100 - 15s - loss: 0.5632 - mse: 0.5632 - root_mean_squared_error: 0.7505 - val_loss: 0.5424 - val_mse: 0.5424 - val_root_mean_squared_error: 0.7365 - 15s/epoch - 153ms/step\n",
      "Epoch 23/100\n",
      "100/100 - 15s - loss: 0.5627 - mse: 0.5627 - root_mean_squared_error: 0.7501 - val_loss: 0.5399 - val_mse: 0.5399 - val_root_mean_squared_error: 0.7348 - 15s/epoch - 147ms/step\n",
      "Epoch 24/100\n",
      "100/100 - 15s - loss: 0.5627 - mse: 0.5627 - root_mean_squared_error: 0.7502 - val_loss: 0.5234 - val_mse: 0.5234 - val_root_mean_squared_error: 0.7235 - 15s/epoch - 149ms/step\n",
      "Epoch 25/100\n",
      "100/100 - 15s - loss: 0.5623 - mse: 0.5623 - root_mean_squared_error: 0.7499 - val_loss: 0.5226 - val_mse: 0.5226 - val_root_mean_squared_error: 0.7229 - 15s/epoch - 153ms/step\n",
      "Epoch 26/100\n",
      "100/100 - 15s - loss: 0.5642 - mse: 0.5642 - root_mean_squared_error: 0.7511 - val_loss: 0.5171 - val_mse: 0.5171 - val_root_mean_squared_error: 0.7191 - 15s/epoch - 150ms/step\n",
      "Epoch 27/100\n",
      "100/100 - 14s - loss: 0.5644 - mse: 0.5644 - root_mean_squared_error: 0.7513 - val_loss: 0.5200 - val_mse: 0.5200 - val_root_mean_squared_error: 0.7211 - 14s/epoch - 145ms/step\n",
      "Epoch 28/100\n",
      "100/100 - 15s - loss: 0.5655 - mse: 0.5655 - root_mean_squared_error: 0.7520 - val_loss: 0.5299 - val_mse: 0.5299 - val_root_mean_squared_error: 0.7280 - 15s/epoch - 148ms/step\n",
      "Epoch 29/100\n",
      "100/100 - 15s - loss: 0.5657 - mse: 0.5657 - root_mean_squared_error: 0.7521 - val_loss: 0.5406 - val_mse: 0.5406 - val_root_mean_squared_error: 0.7353 - 15s/epoch - 150ms/step\n",
      "Epoch 30/100\n",
      "100/100 - 14s - loss: 0.7847 - mse: 0.7847 - root_mean_squared_error: 0.8859 - val_loss: 0.6577 - val_mse: 0.6577 - val_root_mean_squared_error: 0.8110 - 14s/epoch - 145ms/step\n",
      "Epoch 31/100\n",
      "100/100 - 15s - loss: 0.5626 - mse: 0.5626 - root_mean_squared_error: 0.7501 - val_loss: 0.4971 - val_mse: 0.4971 - val_root_mean_squared_error: 0.7050 - 15s/epoch - 151ms/step\n",
      "Epoch 32/100\n",
      "100/100 - 15s - loss: 0.5463 - mse: 0.5463 - root_mean_squared_error: 0.7391 - val_loss: 0.5015 - val_mse: 0.5015 - val_root_mean_squared_error: 0.7082 - 15s/epoch - 150ms/step\n",
      "Epoch 33/100\n",
      "100/100 - 14s - loss: 0.5469 - mse: 0.5469 - root_mean_squared_error: 0.7395 - val_loss: 0.5097 - val_mse: 0.5097 - val_root_mean_squared_error: 0.7139 - 14s/epoch - 142ms/step\n",
      "Epoch 34/100\n",
      "100/100 - 15s - loss: 0.5462 - mse: 0.5462 - root_mean_squared_error: 0.7390 - val_loss: 0.5062 - val_mse: 0.5062 - val_root_mean_squared_error: 0.7115 - 15s/epoch - 154ms/step\n",
      "Epoch 35/100\n",
      "100/100 - 15s - loss: 0.5444 - mse: 0.5444 - root_mean_squared_error: 0.7378 - val_loss: 0.4995 - val_mse: 0.4995 - val_root_mean_squared_error: 0.7068 - 15s/epoch - 149ms/step\n",
      "Epoch 36/100\n",
      "100/100 - 15s - loss: 0.5430 - mse: 0.5430 - root_mean_squared_error: 0.7369 - val_loss: 0.5013 - val_mse: 0.5013 - val_root_mean_squared_error: 0.7080 - 15s/epoch - 151ms/step\n",
      "Epoch 37/100\n",
      "100/100 - 15s - loss: 0.5427 - mse: 0.5427 - root_mean_squared_error: 0.7367 - val_loss: 0.5107 - val_mse: 0.5107 - val_root_mean_squared_error: 0.7146 - 15s/epoch - 146ms/step\n",
      "Epoch 38/100\n",
      "100/100 - 15s - loss: 0.5429 - mse: 0.5429 - root_mean_squared_error: 0.7368 - val_loss: 0.5128 - val_mse: 0.5128 - val_root_mean_squared_error: 0.7161 - 15s/epoch - 151ms/step\n",
      "Epoch 39/100\n",
      "100/100 - 16s - loss: 0.5430 - mse: 0.5430 - root_mean_squared_error: 0.7369 - val_loss: 0.5106 - val_mse: 0.5106 - val_root_mean_squared_error: 0.7146 - 16s/epoch - 158ms/step\n",
      "Epoch 40/100\n",
      "100/100 - 15s - loss: 0.5431 - mse: 0.5431 - root_mean_squared_error: 0.7369 - val_loss: 0.4988 - val_mse: 0.4988 - val_root_mean_squared_error: 0.7063 - 15s/epoch - 146ms/step\n",
      "Epoch 41/100\n",
      "100/100 - 15s - loss: 0.5431 - mse: 0.5431 - root_mean_squared_error: 0.7370 - val_loss: 0.4943 - val_mse: 0.4943 - val_root_mean_squared_error: 0.7031 - 15s/epoch - 150ms/step\n",
      "Epoch 42/100\n",
      "100/100 - 14s - loss: 0.5431 - mse: 0.5431 - root_mean_squared_error: 0.7369 - val_loss: 0.5026 - val_mse: 0.5026 - val_root_mean_squared_error: 0.7090 - 14s/epoch - 142ms/step\n",
      "Epoch 43/100\n",
      "100/100 - 15s - loss: 0.5431 - mse: 0.5431 - root_mean_squared_error: 0.7369 - val_loss: 0.5134 - val_mse: 0.5134 - val_root_mean_squared_error: 0.7165 - 15s/epoch - 148ms/step\n",
      "Epoch 44/100\n",
      "100/100 - 15s - loss: 0.5431 - mse: 0.5431 - root_mean_squared_error: 0.7370 - val_loss: 0.5185 - val_mse: 0.5185 - val_root_mean_squared_error: 0.7201 - 15s/epoch - 151ms/step\n",
      "Epoch 45/100\n",
      "100/100 - 15s - loss: 0.5420 - mse: 0.5420 - root_mean_squared_error: 0.7362 - val_loss: 0.5137 - val_mse: 0.5137 - val_root_mean_squared_error: 0.7167 - 15s/epoch - 149ms/step\n",
      "Epoch 46/100\n",
      "100/100 - 15s - loss: 0.5394 - mse: 0.5394 - root_mean_squared_error: 0.7345 - val_loss: 0.5043 - val_mse: 0.5043 - val_root_mean_squared_error: 0.7101 - 15s/epoch - 153ms/step\n",
      "Epoch 47/100\n",
      "100/100 - 15s - loss: 0.5347 - mse: 0.5347 - root_mean_squared_error: 0.7313 - val_loss: 0.4738 - val_mse: 0.4738 - val_root_mean_squared_error: 0.6883 - 15s/epoch - 147ms/step\n",
      "Epoch 48/100\n",
      "100/100 - 15s - loss: 0.5304 - mse: 0.5304 - root_mean_squared_error: 0.7283 - val_loss: 0.4564 - val_mse: 0.4564 - val_root_mean_squared_error: 0.6755 - 15s/epoch - 154ms/step\n",
      "Epoch 49/100\n",
      "100/100 - 15s - loss: 0.5194 - mse: 0.5194 - root_mean_squared_error: 0.7207 - val_loss: 0.4563 - val_mse: 0.4563 - val_root_mean_squared_error: 0.6755 - 15s/epoch - 149ms/step\n",
      "Epoch 50/100\n",
      "100/100 - 16s - loss: 0.5057 - mse: 0.5057 - root_mean_squared_error: 0.7111 - val_loss: 0.4372 - val_mse: 0.4372 - val_root_mean_squared_error: 0.6612 - 16s/epoch - 157ms/step\n",
      "Epoch 51/100\n",
      "100/100 - 14s - loss: 0.4815 - mse: 0.4815 - root_mean_squared_error: 0.6939 - val_loss: 0.4271 - val_mse: 0.4271 - val_root_mean_squared_error: 0.6535 - 14s/epoch - 145ms/step\n",
      "Epoch 52/100\n",
      "100/100 - 15s - loss: 0.4821 - mse: 0.4821 - root_mean_squared_error: 0.6944 - val_loss: 0.3890 - val_mse: 0.3890 - val_root_mean_squared_error: 0.6237 - 15s/epoch - 150ms/step\n",
      "Epoch 53/100\n",
      "100/100 - 15s - loss: 0.4504 - mse: 0.4504 - root_mean_squared_error: 0.6711 - val_loss: 0.3692 - val_mse: 0.3692 - val_root_mean_squared_error: 0.6076 - 15s/epoch - 154ms/step\n",
      "Epoch 54/100\n",
      "100/100 - 15s - loss: 0.4404 - mse: 0.4404 - root_mean_squared_error: 0.6636 - val_loss: 0.3864 - val_mse: 0.3864 - val_root_mean_squared_error: 0.6216 - 15s/epoch - 148ms/step\n",
      "Epoch 55/100\n",
      "100/100 - 15s - loss: 0.4407 - mse: 0.4407 - root_mean_squared_error: 0.6638 - val_loss: 0.4258 - val_mse: 0.4258 - val_root_mean_squared_error: 0.6525 - 15s/epoch - 154ms/step\n",
      "Epoch 56/100\n",
      "100/100 - 15s - loss: 0.4215 - mse: 0.4215 - root_mean_squared_error: 0.6492 - val_loss: 0.3466 - val_mse: 0.3466 - val_root_mean_squared_error: 0.5887 - 15s/epoch - 148ms/step\n",
      "Epoch 57/100\n",
      "100/100 - 15s - loss: 0.4204 - mse: 0.4204 - root_mean_squared_error: 0.6484 - val_loss: 0.3622 - val_mse: 0.3622 - val_root_mean_squared_error: 0.6018 - 15s/epoch - 152ms/step\n",
      "Epoch 58/100\n",
      "100/100 - 15s - loss: 0.4163 - mse: 0.4163 - root_mean_squared_error: 0.6452 - val_loss: 0.3691 - val_mse: 0.3691 - val_root_mean_squared_error: 0.6075 - 15s/epoch - 145ms/step\n",
      "Epoch 59/100\n",
      "100/100 - 15s - loss: 0.4184 - mse: 0.4184 - root_mean_squared_error: 0.6468 - val_loss: 0.3457 - val_mse: 0.3457 - val_root_mean_squared_error: 0.5880 - 15s/epoch - 155ms/step\n",
      "Epoch 60/100\n",
      "100/100 - 14s - loss: 0.4132 - mse: 0.4132 - root_mean_squared_error: 0.6428 - val_loss: 0.3829 - val_mse: 0.3829 - val_root_mean_squared_error: 0.6188 - 14s/epoch - 143ms/step\n",
      "Epoch 61/100\n",
      "100/100 - 14s - loss: 0.4188 - mse: 0.4188 - root_mean_squared_error: 0.6472 - val_loss: 0.3649 - val_mse: 0.3649 - val_root_mean_squared_error: 0.6040 - 14s/epoch - 145ms/step\n",
      "Epoch 62/100\n",
      "100/100 - 15s - loss: 0.4090 - mse: 0.4090 - root_mean_squared_error: 0.6395 - val_loss: 0.3497 - val_mse: 0.3497 - val_root_mean_squared_error: 0.5913 - 15s/epoch - 154ms/step\n",
      "Epoch 63/100\n",
      "100/100 - 15s - loss: 0.4067 - mse: 0.4067 - root_mean_squared_error: 0.6377 - val_loss: 0.3615 - val_mse: 0.3615 - val_root_mean_squared_error: 0.6012 - 15s/epoch - 149ms/step\n",
      "Epoch 64/100\n",
      "100/100 - 15s - loss: 0.4039 - mse: 0.4039 - root_mean_squared_error: 0.6355 - val_loss: 0.3493 - val_mse: 0.3493 - val_root_mean_squared_error: 0.5910 - 15s/epoch - 152ms/step\n",
      "Epoch 65/100\n",
      "100/100 - 15s - loss: 0.3958 - mse: 0.3958 - root_mean_squared_error: 0.6291 - val_loss: 0.3336 - val_mse: 0.3336 - val_root_mean_squared_error: 0.5776 - 15s/epoch - 145ms/step\n",
      "Epoch 66/100\n",
      "100/100 - 15s - loss: 0.3980 - mse: 0.3980 - root_mean_squared_error: 0.6309 - val_loss: 0.3312 - val_mse: 0.3312 - val_root_mean_squared_error: 0.5755 - 15s/epoch - 148ms/step\n",
      "Epoch 67/100\n",
      "100/100 - 15s - loss: 0.3960 - mse: 0.3960 - root_mean_squared_error: 0.6293 - val_loss: 0.3555 - val_mse: 0.3555 - val_root_mean_squared_error: 0.5963 - 15s/epoch - 153ms/step\n",
      "Epoch 68/100\n",
      "100/100 - 14s - loss: 0.3999 - mse: 0.3999 - root_mean_squared_error: 0.6324 - val_loss: 0.3408 - val_mse: 0.3408 - val_root_mean_squared_error: 0.5838 - 14s/epoch - 139ms/step\n",
      "Epoch 69/100\n",
      "100/100 - 15s - loss: 0.3946 - mse: 0.3946 - root_mean_squared_error: 0.6282 - val_loss: 0.3282 - val_mse: 0.3282 - val_root_mean_squared_error: 0.5729 - 15s/epoch - 150ms/step\n",
      "Epoch 70/100\n",
      "100/100 - 15s - loss: 0.3885 - mse: 0.3885 - root_mean_squared_error: 0.6233 - val_loss: 0.3298 - val_mse: 0.3298 - val_root_mean_squared_error: 0.5743 - 15s/epoch - 146ms/step\n",
      "Epoch 71/100\n",
      "100/100 - 15s - loss: 0.3928 - mse: 0.3928 - root_mean_squared_error: 0.6267 - val_loss: 0.3430 - val_mse: 0.3430 - val_root_mean_squared_error: 0.5857 - 15s/epoch - 154ms/step\n",
      "Epoch 72/100\n",
      "100/100 - 14s - loss: 0.3957 - mse: 0.3957 - root_mean_squared_error: 0.6290 - val_loss: 0.3445 - val_mse: 0.3445 - val_root_mean_squared_error: 0.5870 - 14s/epoch - 142ms/step\n",
      "Epoch 73/100\n",
      "100/100 - 15s - loss: 0.3902 - mse: 0.3902 - root_mean_squared_error: 0.6247 - val_loss: 0.3201 - val_mse: 0.3201 - val_root_mean_squared_error: 0.5658 - 15s/epoch - 148ms/step\n",
      "Epoch 74/100\n",
      "100/100 - 15s - loss: 0.3879 - mse: 0.3879 - root_mean_squared_error: 0.6228 - val_loss: 0.3293 - val_mse: 0.3293 - val_root_mean_squared_error: 0.5738 - 15s/epoch - 154ms/step\n",
      "Epoch 75/100\n",
      "100/100 - 15s - loss: 0.3846 - mse: 0.3846 - root_mean_squared_error: 0.6202 - val_loss: 0.3209 - val_mse: 0.3209 - val_root_mean_squared_error: 0.5665 - 15s/epoch - 147ms/step\n",
      "Epoch 76/100\n",
      "100/100 - 15s - loss: 0.3896 - mse: 0.3896 - root_mean_squared_error: 0.6242 - val_loss: 0.3356 - val_mse: 0.3356 - val_root_mean_squared_error: 0.5793 - 15s/epoch - 151ms/step\n",
      "Epoch 77/100\n",
      "100/100 - 15s - loss: 0.3904 - mse: 0.3904 - root_mean_squared_error: 0.6248 - val_loss: 0.3253 - val_mse: 0.3253 - val_root_mean_squared_error: 0.5704 - 15s/epoch - 148ms/step\n",
      "Epoch 78/100\n",
      "100/100 - 15s - loss: 0.3870 - mse: 0.3870 - root_mean_squared_error: 0.6221 - val_loss: 0.3357 - val_mse: 0.3357 - val_root_mean_squared_error: 0.5794 - 15s/epoch - 152ms/step\n",
      "Epoch 79/100\n",
      "100/100 - 15s - loss: 0.3917 - mse: 0.3917 - root_mean_squared_error: 0.6259 - val_loss: 0.3448 - val_mse: 0.3448 - val_root_mean_squared_error: 0.5872 - 15s/epoch - 147ms/step\n",
      "Epoch 80/100\n",
      "100/100 - 15s - loss: 0.3869 - mse: 0.3869 - root_mean_squared_error: 0.6220 - val_loss: 0.3241 - val_mse: 0.3241 - val_root_mean_squared_error: 0.5693 - 15s/epoch - 146ms/step\n",
      "Epoch 81/100\n",
      "100/100 - 15s - loss: 0.3848 - mse: 0.3848 - root_mean_squared_error: 0.6203 - val_loss: 0.3425 - val_mse: 0.3425 - val_root_mean_squared_error: 0.5853 - 15s/epoch - 152ms/step\n",
      "Epoch 82/100\n",
      "100/100 - 14s - loss: 0.3857 - mse: 0.3857 - root_mean_squared_error: 0.6210 - val_loss: 0.3245 - val_mse: 0.3245 - val_root_mean_squared_error: 0.5696 - 14s/epoch - 144ms/step\n",
      "Epoch 83/100\n",
      "100/100 - 15s - loss: 0.3851 - mse: 0.3851 - root_mean_squared_error: 0.6206 - val_loss: 0.3301 - val_mse: 0.3301 - val_root_mean_squared_error: 0.5745 - 15s/epoch - 149ms/step\n",
      "Epoch 84/100\n",
      "100/100 - 14s - loss: 0.3908 - mse: 0.3908 - root_mean_squared_error: 0.6251 - val_loss: 0.3464 - val_mse: 0.3464 - val_root_mean_squared_error: 0.5886 - 14s/epoch - 145ms/step\n",
      "Epoch 85/100\n",
      "100/100 - 16s - loss: 0.3861 - mse: 0.3861 - root_mean_squared_error: 0.6214 - val_loss: 0.3306 - val_mse: 0.3306 - val_root_mean_squared_error: 0.5750 - 16s/epoch - 155ms/step\n",
      "Epoch 86/100\n",
      "100/100 - 15s - loss: 0.3830 - mse: 0.3830 - root_mean_squared_error: 0.6189 - val_loss: 0.3429 - val_mse: 0.3429 - val_root_mean_squared_error: 0.5855 - 15s/epoch - 147ms/step\n",
      "Epoch 87/100\n",
      "100/100 - 15s - loss: 0.3881 - mse: 0.3881 - root_mean_squared_error: 0.6230 - val_loss: 0.3492 - val_mse: 0.3492 - val_root_mean_squared_error: 0.5910 - 15s/epoch - 145ms/step\n",
      "Epoch 88/100\n",
      "100/100 - 15s - loss: 0.3842 - mse: 0.3842 - root_mean_squared_error: 0.6199 - val_loss: 0.3359 - val_mse: 0.3359 - val_root_mean_squared_error: 0.5795 - 15s/epoch - 147ms/step\n",
      "Epoch 89/100\n",
      "100/100 - 14s - loss: 0.3824 - mse: 0.3824 - root_mean_squared_error: 0.6184 - val_loss: 0.3368 - val_mse: 0.3368 - val_root_mean_squared_error: 0.5803 - 14s/epoch - 144ms/step\n",
      "Epoch 90/100\n",
      "100/100 - 15s - loss: 0.3859 - mse: 0.3859 - root_mean_squared_error: 0.6212 - val_loss: 0.3202 - val_mse: 0.3202 - val_root_mean_squared_error: 0.5659 - 15s/epoch - 152ms/step\n",
      "Epoch 91/100\n",
      "100/100 - 14s - loss: 0.3786 - mse: 0.3786 - root_mean_squared_error: 0.6153 - val_loss: 0.3166 - val_mse: 0.3166 - val_root_mean_squared_error: 0.5627 - 14s/epoch - 143ms/step\n",
      "Epoch 92/100\n",
      "100/100 - 14s - loss: 0.3785 - mse: 0.3785 - root_mean_squared_error: 0.6152 - val_loss: 0.3168 - val_mse: 0.3168 - val_root_mean_squared_error: 0.5629 - 14s/epoch - 143ms/step\n",
      "Epoch 93/100\n",
      "100/100 - 15s - loss: 0.3787 - mse: 0.3787 - root_mean_squared_error: 0.6154 - val_loss: 0.3153 - val_mse: 0.3153 - val_root_mean_squared_error: 0.5615 - 15s/epoch - 150ms/step\n",
      "Epoch 94/100\n",
      "100/100 - 15s - loss: 0.3793 - mse: 0.3793 - root_mean_squared_error: 0.6159 - val_loss: 0.3150 - val_mse: 0.3150 - val_root_mean_squared_error: 0.5612 - 15s/epoch - 146ms/step\n",
      "Epoch 95/100\n",
      "100/100 - 15s - loss: 0.3793 - mse: 0.3793 - root_mean_squared_error: 0.6159 - val_loss: 0.3152 - val_mse: 0.3152 - val_root_mean_squared_error: 0.5614 - 15s/epoch - 152ms/step\n",
      "Epoch 96/100\n",
      "100/100 - 15s - loss: 0.3790 - mse: 0.3790 - root_mean_squared_error: 0.6156 - val_loss: 0.3149 - val_mse: 0.3149 - val_root_mean_squared_error: 0.5612 - 15s/epoch - 145ms/step\n",
      "Epoch 97/100\n",
      "100/100 - 16s - loss: 0.3782 - mse: 0.3782 - root_mean_squared_error: 0.6150 - val_loss: 0.3139 - val_mse: 0.3139 - val_root_mean_squared_error: 0.5602 - 16s/epoch - 155ms/step\n",
      "Epoch 98/100\n",
      "100/100 - 15s - loss: 0.3789 - mse: 0.3789 - root_mean_squared_error: 0.6156 - val_loss: 0.3145 - val_mse: 0.3145 - val_root_mean_squared_error: 0.5608 - 15s/epoch - 152ms/step\n",
      "Epoch 99/100\n",
      "100/100 - 15s - loss: 0.3780 - mse: 0.3780 - root_mean_squared_error: 0.6148 - val_loss: 0.3135 - val_mse: 0.3135 - val_root_mean_squared_error: 0.5600 - 15s/epoch - 149ms/step\n",
      "Epoch 100/100\n",
      "100/100 - 15s - loss: 0.3780 - mse: 0.3780 - root_mean_squared_error: 0.6148 - val_loss: 0.3160 - val_mse: 0.3160 - val_root_mean_squared_error: 0.5621 - 15s/epoch - 151ms/step\n"
     ]
    },
    {
     "data": {
      "text/plain": [
       "<keras.callbacks.History at 0x7f168dee71d0>"
      ]
     },
     "execution_count": 14,
     "metadata": {},
     "output_type": "execute_result"
    }
   ],
   "source": [
    "model.fit(train_ds, validation_data=test_ds, epochs=100, verbose=2)"
   ]
  },
  {
   "cell_type": "code",
   "execution_count": 15,
   "id": "351894f5",
   "metadata": {
    "collapsed": true,
    "execution": {
     "iopub.execute_input": "2022-03-23T14:40:16.030895Z",
     "iopub.status.busy": "2022-03-23T14:40:16.030017Z",
     "iopub.status.idle": "2022-03-23T14:40:21.123263Z",
     "shell.execute_reply": "2022-03-23T14:40:21.123968Z",
     "shell.execute_reply.started": "2022-03-20T00:41:19.750046Z"
    },
    "jupyter": {
     "outputs_hidden": true
    },
    "papermill": {
     "duration": 5.346065,
     "end_time": "2022-03-23T14:40:21.124186",
     "exception": false,
     "start_time": "2022-03-23T14:40:15.778121",
     "status": "completed"
    },
    "tags": []
   },
   "outputs": [
    {
     "data": {
      "text/plain": [
       "0.6034718739799461"
      ]
     },
     "execution_count": 15,
     "metadata": {},
     "output_type": "execute_result"
    }
   ],
   "source": [
    "np.sqrt(np.mean((np.array(model.predict(train_ds)).flatten() - y_train)**2)) # train RMSLE"
   ]
  },
  {
   "cell_type": "code",
   "execution_count": 16,
   "id": "afbff620",
   "metadata": {
    "execution": {
     "iopub.execute_input": "2022-03-23T14:40:21.710990Z",
     "iopub.status.busy": "2022-03-23T14:40:21.710161Z",
     "iopub.status.idle": "2022-03-23T14:40:22.343541Z",
     "shell.execute_reply": "2022-03-23T14:40:22.342835Z",
     "shell.execute_reply.started": "2022-03-19T21:27:44.466297Z"
    },
    "papermill": {
     "duration": 0.947395,
     "end_time": "2022-03-23T14:40:22.343671",
     "exception": false,
     "start_time": "2022-03-23T14:40:21.396276",
     "status": "completed"
    },
    "tags": []
   },
   "outputs": [
    {
     "data": {
      "text/plain": [
       "0.562103271344189"
      ]
     },
     "execution_count": 16,
     "metadata": {},
     "output_type": "execute_result"
    }
   ],
   "source": [
    "np.sqrt(np.mean((np.array(model.predict(test_ds)).flatten() - y_test)**2)) # test RMSLE"
   ]
  }
 ],
 "metadata": {
  "kernelspec": {
   "display_name": "Python 3",
   "language": "python",
   "name": "python3"
  },
  "language_info": {
   "codemirror_mode": {
    "name": "ipython",
    "version": 3
   },
   "file_extension": ".py",
   "mimetype": "text/x-python",
   "name": "python",
   "nbconvert_exporter": "python",
   "pygments_lexer": "ipython3",
   "version": "3.7.12"
  },
  "papermill": {
   "default_parameters": {},
   "duration": 1962.397338,
   "end_time": "2022-03-23T14:40:27.314731",
   "environment_variables": {},
   "exception": true,
   "input_path": "__notebook__.ipynb",
   "output_path": "__notebook__.ipynb",
   "parameters": {},
   "start_time": "2022-03-23T14:07:44.917393",
   "version": "2.3.3"
  }
 },
 "nbformat": 4,
 "nbformat_minor": 5
}
